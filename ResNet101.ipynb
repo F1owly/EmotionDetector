{
  "nbformat": 4,
  "nbformat_minor": 0,
  "metadata": {
    "colab": {
      "provenance": [],
      "collapsed_sections": [
        "_vx5VEp6Xsd8",
        "nFD-9p2aeSpC"
      ],
      "gpuType": "T4",
      "authorship_tag": "ABX9TyOMXi2TfJvILTExzAq7FaaK",
      "include_colab_link": true
    },
    "kernelspec": {
      "name": "python3",
      "display_name": "Python 3"
    },
    "language_info": {
      "name": "python"
    },
    "accelerator": "GPU"
  },
  "cells": [
    {
      "cell_type": "markdown",
      "metadata": {
        "id": "view-in-github",
        "colab_type": "text"
      },
      "source": [
        "<a href=\"https://colab.research.google.com/github/F1owly/EmotionDetector/blob/main/ResNet101.ipynb\" target=\"_parent\"><img src=\"https://colab.research.google.com/assets/colab-badge.svg\" alt=\"Open In Colab\"/></a>"
      ]
    },
    {
      "cell_type": "code",
      "execution_count": 1,
      "metadata": {
        "colab": {
          "base_uri": "https://localhost:8080/"
        },
        "id": "NFLJkuq7Vmw5",
        "outputId": "eaac3988-03d8-46de-ae04-6b0402f7bd0c"
      },
      "outputs": [
        {
          "output_type": "stream",
          "name": "stdout",
          "text": [
            "Mounted at /content/drive\n"
          ]
        }
      ],
      "source": [
        "from google.colab import drive\n",
        "drive.mount('/content/drive')"
      ]
    },
    {
      "cell_type": "code",
      "source": [
        "import cv2\n",
        "import numpy as np  # для работы с математикой\n",
        "import matplotlib.pyplot as plt  # для вывода картинки\n",
        "import os\n",
        "\n",
        "from sklearn.model_selection import train_test_split\n",
        "from sklearn.metrics import f1_score\n",
        "\n",
        "from tensorflow.keras.models import Model, Sequential\n",
        "from tensorflow.keras.layers import (\n",
        "    Input,\n",
        "    Activation,\n",
        "    Dense,\n",
        "    Flatten\n",
        ")\n",
        "from tensorflow.keras.layers import (\n",
        "    Conv2D,\n",
        "    MaxPooling2D,\n",
        "    AveragePooling2D\n",
        ")\n",
        "from tensorflow.keras.layers import add\n",
        "from tensorflow.keras.layers import BatchNormalization\n",
        "from tensorflow.keras.regularizers import l2\n",
        "\n",
        "from keras.applications import ResNet50"
      ],
      "metadata": {
        "id": "UFF979LGXFxZ"
      },
      "execution_count": 17,
      "outputs": []
    },
    {
      "cell_type": "code",
      "source": [
        "#!unzip '/content/drive/MyDrive/train_moderaciya_kartocek_tovarov.zip' ;"
      ],
      "metadata": {
        "collapsed": true,
        "id": "uyawDE2KV75g"
      },
      "execution_count": null,
      "outputs": []
    },
    {
      "cell_type": "code",
      "source": [
        "width, height = [224, 224]\n"
      ],
      "metadata": {
        "id": "iWDmuxJrlBUU"
      },
      "execution_count": 3,
      "outputs": []
    },
    {
      "cell_type": "markdown",
      "source": [
        "#Загрузка изображений"
      ],
      "metadata": {
        "id": "_vx5VEp6Xsd8"
      }
    },
    {
      "cell_type": "code",
      "source": [
        "dir_name = '/content/train'"
      ],
      "metadata": {
        "id": "0vNDH1nlXrjI"
      },
      "execution_count": null,
      "outputs": []
    },
    {
      "cell_type": "code",
      "source": [
        "X_cigs = []\n",
        "for filename in os.listdir(dir_name + '/cigs'):\n",
        "    img_path = os.path.join(dir_name + '/cigs', filename)\n",
        "    image = cv2.imread(img_path)\n",
        "\n",
        "    image = cv2.resize(image, (width, height))\n",
        "    X_cigs.append(image)\n",
        "\n",
        "X_cigs = np.array(X_cigs)"
      ],
      "metadata": {
        "id": "SK3GFXbrWxzI"
      },
      "execution_count": null,
      "outputs": []
    },
    {
      "cell_type": "code",
      "source": [
        "X_other = []\n",
        "for filename in os.listdir(dir_name + '/other'):\n",
        "    img_path = os.path.join(dir_name + '/other', filename)\n",
        "    image = cv2.imread(img_path)\n",
        "\n",
        "    image = cv2.resize(image, (width, height))\n",
        "    X_other.append(image)\n",
        "\n",
        "X_other =  np.array(X_other)"
      ],
      "metadata": {
        "id": "fAvrzCaRX5TE"
      },
      "execution_count": null,
      "outputs": []
    },
    {
      "cell_type": "code",
      "source": [
        "X_pipes = []\n",
        "for filename in os.listdir(dir_name + '/pipes'):\n",
        "    img_path = os.path.join(dir_name + '/pipes', filename)\n",
        "    image = cv2.imread(img_path)\n",
        "\n",
        "    image = cv2.resize(image, (width, height))\n",
        "    X_pipes.append(image)\n",
        "\n",
        "X_pipes = np.array(X_pipes)"
      ],
      "metadata": {
        "id": "0OOiEb7tYAoJ"
      },
      "execution_count": null,
      "outputs": []
    },
    {
      "cell_type": "code",
      "source": [
        "X_roll_cigs = []\n",
        "for filename in os.listdir(dir_name + '/roll_cigs'):\n",
        "    img_path = os.path.join(dir_name + '/roll_cigs', filename)\n",
        "    image = cv2.imread(img_path)\n",
        "\n",
        "    image = cv2.resize(image, (width, height))\n",
        "    X_roll_cigs.append(image)\n",
        "\n",
        "X_roll_cigs = np.array(X_roll_cigs)"
      ],
      "metadata": {
        "id": "VmQYKHMCYW03"
      },
      "execution_count": null,
      "outputs": []
    },
    {
      "cell_type": "code",
      "source": [
        "X_smoking = []\n",
        "for filename in os.listdir(dir_name + '/smoking'):\n",
        "    img_path = os.path.join(dir_name + '/smoking', filename)\n",
        "    image = cv2.imread(img_path)\n",
        "\n",
        "    image = cv2.resize(image, (width, height))\n",
        "    X_smoking.append(image)\n",
        "\n",
        "X_smoking = np.array(X_smoking)"
      ],
      "metadata": {
        "id": "fUa4lUILYk5K"
      },
      "execution_count": null,
      "outputs": []
    },
    {
      "cell_type": "markdown",
      "source": [
        "#Подготовка данных для многоклассовой класссификации\n",
        "\n"
      ],
      "metadata": {
        "id": "nFD-9p2aeSpC"
      }
    },
    {
      "cell_type": "code",
      "source": [
        "y_cigs = X_cigs.shape[0]*[[0, 1, 0, 0, 0]]\n",
        "y_pipes = X_pipes.shape[0]*[[0, 0, 1, 0, 0]]\n",
        "y_roll_cigs = X_roll_cigs.shape[0]*[[0, 0, 0, 1, 0]]\n",
        "y_smoking = X_smoking.shape[0]*[[0, 0, 0, 0, 1]]\n",
        "y_other = X_other.shape[0]*[[1, 0, 0, 0, 0]]"
      ],
      "metadata": {
        "id": "d2JPcbk6YpuM"
      },
      "execution_count": null,
      "outputs": []
    },
    {
      "cell_type": "code",
      "source": [
        "X = np.concatenate([X_cigs, X_pipes, X_roll_cigs, X_smoking, X_other])\n",
        "y = np.concatenate([y_cigs, y_pipes, y_roll_cigs, y_smoking, y_other])"
      ],
      "metadata": {
        "id": "uI78GvGkfTL0"
      },
      "execution_count": null,
      "outputs": []
    },
    {
      "cell_type": "markdown",
      "source": [
        "##Сохранение подготовленных датасетов для мультиклассовой классификации"
      ],
      "metadata": {
        "id": "9ww2aVYlj_HW"
      }
    },
    {
      "cell_type": "code",
      "source": [
        "np.save('/content/drive/MyDrive/Hahaton/X_multyclass.npy', X)\n",
        "np.save('/content/drive/MyDrive/Hahaton/y_multyclass.npy', y)"
      ],
      "metadata": {
        "id": "7D_btDkvjMc2"
      },
      "execution_count": null,
      "outputs": []
    },
    {
      "cell_type": "markdown",
      "source": [
        "#Создание нейросети для мультиклассовой классификации"
      ],
      "metadata": {
        "id": "fe3Gjde5kvLO"
      }
    },
    {
      "cell_type": "markdown",
      "source": [
        "#Загрузка датасета"
      ],
      "metadata": {
        "id": "TticROL9k7qu"
      }
    },
    {
      "cell_type": "code",
      "source": [
        "X = np.load('/content/drive/MyDrive/Hahaton/X_multyclass.npy')\n",
        "y = np.load('/content/drive/MyDrive/Hahaton/y_multyclass.npy')"
      ],
      "metadata": {
        "id": "Ey44rvQgkWJz"
      },
      "execution_count": 4,
      "outputs": []
    },
    {
      "cell_type": "code",
      "source": [
        "X_train, X_test, y_train, y_test = train_test_split(X,\n",
        "                                                    y,\n",
        "                                                    test_size=0.2,\n",
        "                                                    random_state=42)"
      ],
      "metadata": {
        "id": "xEtcx8x3wDPP"
      },
      "execution_count": 5,
      "outputs": []
    },
    {
      "cell_type": "code",
      "source": [
        "input_shape = (width, height, 3)\n",
        "num_outputs = 5"
      ],
      "metadata": {
        "id": "aSUmnnvQlGrl"
      },
      "execution_count": 6,
      "outputs": []
    },
    {
      "cell_type": "code",
      "source": [
        "model_resnet_50 = ResNet50(include_top = False, input_shape=input_shape)"
      ],
      "metadata": {
        "colab": {
          "base_uri": "https://localhost:8080/"
        },
        "id": "qzM5U9iG41rD",
        "outputId": "9d10e014-bdb4-4823-c02c-c9a90ddd8944"
      },
      "execution_count": null,
      "outputs": [
        {
          "output_type": "stream",
          "name": "stdout",
          "text": [
            "Downloading data from https://storage.googleapis.com/tensorflow/keras-applications/resnet/resnet50_weights_tf_dim_ordering_tf_kernels_notop.h5\n",
            "\u001b[1m94765736/94765736\u001b[0m \u001b[32m━━━━━━━━━━━━━━━━━━━━\u001b[0m\u001b[37m\u001b[0m \u001b[1m0s\u001b[0m 0us/step\n"
          ]
        }
      ]
    },
    {
      "cell_type": "code",
      "source": [
        "model = Sequential([model_resnet_50,\n",
        "Flatten(),\n",
        "Dense(1024, activation='relu'),\n",
        "Dense(5, activation='softmax')])"
      ],
      "metadata": {
        "id": "WbPW2qENA93P"
      },
      "execution_count": null,
      "outputs": []
    },
    {
      "cell_type": "code",
      "source": [
        "model_resnet_50.trainable = False"
      ],
      "metadata": {
        "id": "aAbDJoDF6exu"
      },
      "execution_count": null,
      "outputs": []
    },
    {
      "cell_type": "code",
      "source": [
        "model.compile(loss=\"categorical_crossentropy\", metrics=[\"f1_score\"])"
      ],
      "metadata": {
        "id": "SPb0YLPXBL73"
      },
      "execution_count": null,
      "outputs": []
    },
    {
      "cell_type": "code",
      "source": [
        "batch_size = 64\n",
        "history = model.fit(X_train,\n",
        "                    y_train,\n",
        "                    batch_size=batch_size,\n",
        "                    epochs=2,\n",
        "                    validation_data=(X_test, y_test),\n",
        "                    verbose=1)\n",
        "\n",
        "#Отображаем график точности обучения\n",
        "plt.plot(history.history['f1_score'],\n",
        "         label='F1-score на обучающем наборе')\n",
        "plt.plot(history.history['val_f1_score'],\n",
        "         label='F1-score на проверочном наборе')\n",
        "plt.xlabel('Эпоха обучения')\n",
        "plt.ylabel('Доля верных ответов')\n",
        "plt.legend()\n",
        "plt.show()"
      ],
      "metadata": {
        "colab": {
          "base_uri": "https://localhost:8080/",
          "height": 522
        },
        "id": "cRQEsqSDGNhx",
        "outputId": "806cd631-ec91-481b-8ec5-d55ca50beeef"
      },
      "execution_count": null,
      "outputs": [
        {
          "output_type": "stream",
          "name": "stdout",
          "text": [
            "Epoch 1/2\n",
            "\u001b[1m83/83\u001b[0m \u001b[32m━━━━━━━━━━━━━━━━━━━━\u001b[0m\u001b[37m\u001b[0m \u001b[1m35s\u001b[0m 292ms/step - f1_score: 0.4827 - loss: 76.7029 - val_f1_score: 0.6008 - val_loss: 5.5620\n",
            "Epoch 2/2\n",
            "\u001b[1m83/83\u001b[0m \u001b[32m━━━━━━━━━━━━━━━━━━━━\u001b[0m\u001b[37m\u001b[0m \u001b[1m33s\u001b[0m 229ms/step - f1_score: 0.8580 - loss: 1.4215 - val_f1_score: 0.7195 - val_loss: 2.1342\n"
          ]
        },
        {
          "output_type": "display_data",
          "data": {
            "text/plain": [
              "<Figure size 640x480 with 1 Axes>"
            ],
            "image/png": "[encoded data removed]"
          },
          "metadata": {}
        }
      ]
    },
    {
      "cell_type": "code",
      "source": [
        "model.save(\"/content/drive/MyDrive/Hahaton/resnet50_multyclass_model2.h5\")"
      ],
      "metadata": {
        "colab": {
          "base_uri": "https://localhost:8080/"
        },
        "id": "nnlMQEQDm5K-",
        "outputId": "590cf5d0-de1b-4426-e1af-47b703961a7b"
      },
      "execution_count": null,
      "outputs": [
        {
          "output_type": "stream",
          "name": "stderr",
          "text": [
            "WARNING:absl:You are saving your model as an HDF5 file via `model.save()` or `keras.saving.save_model(model)`. This file format is considered legacy. We recommend using instead the native Keras format, e.g. `model.save('my_model.keras')` or `keras.saving.save_model(model, 'my_model.keras')`. \n"
          ]
        }
      ]
    },
    {
      "cell_type": "code",
      "source": [
        "history = model.fit(X_train,\n",
        "                    y_train,\n",
        "                    batch_size=batch_size,\n",
        "                    epochs=1,\n",
        "                    validation_data=(X_test, y_test),\n",
        "                    verbose=1)"
      ],
      "metadata": {
        "colab": {
          "base_uri": "https://localhost:8080/"
        },
        "id": "nVAATVo6NiVL",
        "outputId": "b90825f1-3531-4210-9a2d-9a86b81ed937"
      },
      "execution_count": null,
      "outputs": [
        {
          "output_type": "stream",
          "name": "stdout",
          "text": [
            "\u001b[1m83/83\u001b[0m \u001b[32m━━━━━━━━━━━━━━━━━━━━\u001b[0m\u001b[37m\u001b[0m \u001b[1m20s\u001b[0m 239ms/step - f1_score: 0.9591 - loss: 0.1630 - val_f1_score: 0.8042 - val_loss: 1.9611\n"
          ]
        }
      ]
    },
    {
      "cell_type": "code",
      "source": [
        "y_pred = model.predict(X_test)"
      ],
      "metadata": {
        "colab": {
          "base_uri": "https://localhost:8080/"
        },
        "id": "N7uK7sfrQ5wA",
        "outputId": "cd0b5fe0-2cb6-41e0-f906-eac9f88c6eaa"
      },
      "execution_count": null,
      "outputs": [
        {
          "output_type": "stream",
          "name": "stdout",
          "text": [
            "\u001b[1m42/42\u001b[0m \u001b[32m━━━━━━━━━━━━━━━━━━━━\u001b[0m\u001b[37m\u001b[0m \u001b[1m3s\u001b[0m 81ms/step\n"
          ]
        }
      ]
    },
    {
      "cell_type": "code",
      "source": [
        "def f1_bin(y_true, y_pred):\n",
        "  max_indices = np.argmax(y_pred, axis=1)\n",
        "  result_array = np.zeros_like(y_pred)\n",
        "  result_array[np.arange(y_pred.shape[0]), max_indices] = 1\n",
        "  return f1_score(y_test, result_array, average=None)[0]"
      ],
      "metadata": {
        "id": "oYdM5uZbS8sA"
      },
      "execution_count": null,
      "outputs": []
    },
    {
      "cell_type": "code",
      "source": [
        "f1_bin(y_test, y_pred)"
      ],
      "metadata": {
        "colab": {
          "base_uri": "https://localhost:8080/"
        },
        "id": "0wa6TEVhWV3B",
        "outputId": "50d8f556-e70d-4e07-de6c-62ab3ae49793"
      },
      "execution_count": null,
      "outputs": [
        {
          "output_type": "execute_result",
          "data": {
            "text/plain": [
              "0.9284064665127021"
            ]
          },
          "metadata": {},
          "execution_count": 37
        }
      ]
    },
    {
      "cell_type": "code",
      "source": [
        "model.save(\"/content/drive/MyDrive/Hahaton/resnet50_multyclass_model2+3epoch.h5\")"
      ],
      "metadata": {
        "colab": {
          "base_uri": "https://localhost:8080/"
        },
        "id": "GnGUmczyoxWL",
        "outputId": "31025725-3cb0-4cba-8614-fd9f44a4f774"
      },
      "execution_count": null,
      "outputs": [
        {
          "output_type": "stream",
          "name": "stderr",
          "text": [
            "WARNING:absl:You are saving your model as an HDF5 file via `model.save()` or `keras.saving.save_model(model)`. This file format is considered legacy. We recommend using instead the native Keras format, e.g. `model.save('my_model.keras')` or `keras.saving.save_model(model, 'my_model.keras')`. \n"
          ]
        }
      ]
    },
    {
      "cell_type": "code",
      "source": [
        "history = model.fit(X_train,\n",
        "                    y_train,\n",
        "                    batch_size=batch_size,\n",
        "                    epochs=1,\n",
        "                    validation_data=(X_test, y_test),\n",
        "                    verbose=1)\n",
        "\n",
        "y_pred = model.predict(X_test)\n",
        "f1_bin(y_test, y_pred)"
      ],
      "metadata": {
        "colab": {
          "base_uri": "https://localhost:8080/"
        },
        "id": "dOTCjOvWo3Xg",
        "outputId": "d0213ced-e5ec-4782-e2cb-ba81ea20bcf6"
      },
      "execution_count": null,
      "outputs": [
        {
          "output_type": "stream",
          "name": "stdout",
          "text": [
            "\u001b[1m83/83\u001b[0m \u001b[32m━━━━━━━━━━━━━━━━━━━━\u001b[0m\u001b[37m\u001b[0m \u001b[1m20s\u001b[0m 241ms/step - f1_score: 0.9913 - loss: 0.0355 - val_f1_score: 0.7851 - val_loss: 2.7020\n",
            "\u001b[1m42/42\u001b[0m \u001b[32m━━━━━━━━━━━━━━━━━━━━\u001b[0m\u001b[37m\u001b[0m \u001b[1m3s\u001b[0m 80ms/step\n"
          ]
        },
        {
          "output_type": "execute_result",
          "data": {
            "text/plain": [
              "0.9302045728038508"
            ]
          },
          "metadata": {},
          "execution_count": 43
        }
      ]
    },
    {
      "cell_type": "code",
      "source": [
        "model.save(\"/content/drive/MyDrive/Hahaton/resnet50_multyclass_model2+3+4epoch.h5\")"
      ],
      "metadata": {
        "colab": {
          "base_uri": "https://localhost:8080/"
        },
        "id": "eUwb0-JLr3BA",
        "outputId": "25de2136-31fe-48ca-daa9-68c10f39cc25"
      },
      "execution_count": null,
      "outputs": [
        {
          "output_type": "stream",
          "name": "stderr",
          "text": [
            "WARNING:absl:You are saving your model as an HDF5 file via `model.save()` or `keras.saving.save_model(model)`. This file format is considered legacy. We recommend using instead the native Keras format, e.g. `model.save('my_model.keras')` or `keras.saving.save_model(model, 'my_model.keras')`. \n"
          ]
        }
      ]
    },
    {
      "cell_type": "markdown",
      "source": [
        "как ни пародоксально, но у мультиклассовой классификации после переобучения в смысле mc f1-score вырос local f1-score на 0.3 пункта"
      ],
      "metadata": {
        "id": "8jtXux6SpHtZ"
      }
    },
    {
      "cell_type": "markdown",
      "source": [
        "#Создание нейросети для бинарной классификации"
      ],
      "metadata": {
        "id": "xta2K0disUGQ"
      }
    },
    {
      "cell_type": "code",
      "source": [
        "X = np.load('/content/drive/MyDrive/Hahaton/X_multyclass.npy')\n",
        "y = np.load('/content/drive/MyDrive/Hahaton/y_multyclass.npy')"
      ],
      "metadata": {
        "id": "PyLGVp_osTPi"
      },
      "execution_count": 14,
      "outputs": []
    },
    {
      "cell_type": "code",
      "source": [
        "y = y.flatten()[::5]"
      ],
      "metadata": {
        "id": "ptR9XV3SxT12"
      },
      "execution_count": 15,
      "outputs": []
    },
    {
      "cell_type": "code",
      "source": [
        "X_train, X_test, y_train, y_test = train_test_split(X,\n",
        "                                                    y,\n",
        "                                                    test_size=0.2,\n",
        "                                                    random_state=42)"
      ],
      "metadata": {
        "id": "_3s2_-gt0JOu"
      },
      "execution_count": 22,
      "outputs": []
    },
    {
      "cell_type": "markdown",
      "source": [
        "##Собственно, сама сеть"
      ],
      "metadata": {
        "id": "iYIFC6iGzLsE"
      }
    },
    {
      "cell_type": "code",
      "source": [
        "input_shape = (width, height, 3)\n",
        "num_outputs = 1"
      ],
      "metadata": {
        "id": "dZ6-VaVtzanN"
      },
      "execution_count": 25,
      "outputs": []
    },
    {
      "cell_type": "code",
      "source": [
        "model_resnet_50 = ResNet50(include_top = False, input_shape=input_shape)"
      ],
      "metadata": {
        "id": "5w5ua8BozBEH"
      },
      "execution_count": 46,
      "outputs": []
    },
    {
      "cell_type": "code",
      "source": [
        "model = Sequential([model_resnet_50,\n",
        "Flatten(),\n",
        "Dense(1024, activation='relu'),\n",
        "Dense(1, activation='sigmoid')])"
      ],
      "metadata": {
        "id": "NaZdEvEgzsxA"
      },
      "execution_count": 47,
      "outputs": []
    },
    {
      "cell_type": "code",
      "source": [
        "model_resnet_50.trainable = False"
      ],
      "metadata": {
        "id": "3VCz5Pn10AYa"
      },
      "execution_count": 48,
      "outputs": []
    },
    {
      "cell_type": "code",
      "source": [
        "model.compile(loss=\"binary_crossentropy\", metrics=[\"acc\"])"
      ],
      "metadata": {
        "id": "qmaWng650GRH"
      },
      "execution_count": 49,
      "outputs": []
    },
    {
      "cell_type": "code",
      "source": [
        "batch_size = 64\n",
        "history = model.fit(X_train,\n",
        "                    y_train,\n",
        "                    batch_size=batch_size,\n",
        "                    epochs=2,\n",
        "                    validation_data=(X_test, y_test),\n",
        "                    verbose=1)\n",
        "\n",
        "#Отображаем график точности обучения\n",
        "plt.plot(history.history['acc'],\n",
        "         label='F1-score на обучающем наборе')\n",
        "plt.plot(history.history['acc'],\n",
        "         label='F1-score на проверочном наборе')\n",
        "plt.xlabel('Эпоха обучения')\n",
        "plt.ylabel('Доля верных ответов')\n",
        "plt.legend()\n",
        "plt.show()"
      ],
      "metadata": {
        "colab": {
          "base_uri": "https://localhost:8080/",
          "height": 522
        },
        "id": "Aur3KTGU0ReC",
        "outputId": "018ff559-3d0a-40db-cbf1-0bde1f2d1f72"
      },
      "execution_count": 50,
      "outputs": [
        {
          "output_type": "stream",
          "name": "stdout",
          "text": [
            "Epoch 1/2\n",
            "\u001b[1m83/83\u001b[0m \u001b[32m━━━━━━━━━━━━━━━━━━━━\u001b[0m\u001b[37m\u001b[0m \u001b[1m39s\u001b[0m 320ms/step - acc: 0.7430 - loss: 52.9359 - val_acc: 0.8993 - val_loss: 0.2904\n",
            "Epoch 2/2\n",
            "\u001b[1m83/83\u001b[0m \u001b[32m━━━━━━━━━━━━━━━━━━━━\u001b[0m\u001b[37m\u001b[0m \u001b[1m29s\u001b[0m 216ms/step - acc: 0.9331 - loss: 0.1954 - val_acc: 0.8963 - val_loss: 0.3071\n"
          ]
        },
        {
          "output_type": "display_data",
          "data": {
            "text/plain": [
              "<Figure size 640x480 with 1 Axes>"
            ],
            "image/png": "[encoded data removed]"
          },
          "metadata": {}
        }
      ]
    },
    {
      "cell_type": "code",
      "source": [
        "y_pred = model.predict(X_test)"
      ],
      "metadata": {
        "colab": {
          "base_uri": "https://localhost:8080/"
        },
        "id": "CuoYUZfu1_74",
        "outputId": "732f2f13-44c4-4d75-a0ca-9e11e92f7e6d"
      },
      "execution_count": 51,
      "outputs": [
        {
          "output_type": "stream",
          "name": "stdout",
          "text": [
            "\u001b[1m42/42\u001b[0m \u001b[32m━━━━━━━━━━━━━━━━━━━━\u001b[0m\u001b[37m\u001b[0m \u001b[1m15s\u001b[0m 209ms/step\n"
          ]
        }
      ]
    },
    {
      "cell_type": "code",
      "source": [
        "P = 0.5\n",
        "y_pred = np.where(y_pred > P, 1, 0)"
      ],
      "metadata": {
        "id": "1b6GOdN_2la2"
      },
      "execution_count": 53,
      "outputs": []
    },
    {
      "cell_type": "code",
      "source": [
        "f1_score(y_test, y_pred)"
      ],
      "metadata": {
        "colab": {
          "base_uri": "https://localhost:8080/"
        },
        "id": "MpLpB0-k2SzI",
        "outputId": "e26d7e1d-97b7-42a3-de30-16db4a0b85f4"
      },
      "execution_count": 54,
      "outputs": [
        {
          "output_type": "execute_result",
          "data": {
            "text/plain": [
              "0.9230769230769231"
            ]
          },
          "metadata": {},
          "execution_count": 54
        }
      ]
    },
    {
      "cell_type": "code",
      "source": [
        "model.fit(X_train,\n",
        "                    y_train,\n",
        "                    batch_size=batch_size,\n",
        "                    epochs=2,\n",
        "                    validation_data=(X_test, y_test),\n",
        "                    verbose=1)"
      ],
      "metadata": {
        "colab": {
          "base_uri": "https://localhost:8080/"
        },
        "id": "o0YHnz642grn",
        "outputId": "c8d5bf0d-b9ec-4ba8-b486-ea5154031d78"
      },
      "execution_count": 55,
      "outputs": [
        {
          "output_type": "stream",
          "name": "stdout",
          "text": [
            "Epoch 1/2\n",
            "\u001b[1m83/83\u001b[0m \u001b[32m━━━━━━━━━━━━━━━━━━━━\u001b[0m\u001b[37m\u001b[0m \u001b[1m19s\u001b[0m 231ms/step - acc: 0.9638 - loss: 0.0950 - val_acc: 0.9001 - val_loss: 0.3268\n",
            "Epoch 2/2\n",
            "\u001b[1m83/83\u001b[0m \u001b[32m━━━━━━━━━━━━━━━━━━━━\u001b[0m\u001b[37m\u001b[0m \u001b[1m20s\u001b[0m 245ms/step - acc: 0.9847 - loss: 0.0583 - val_acc: 0.9092 - val_loss: 0.3765\n"
          ]
        },
        {
          "output_type": "execute_result",
          "data": {
            "text/plain": [
              "<keras.src.callbacks.history.History at 0x7efda66fc3d0>"
            ]
          },
          "metadata": {},
          "execution_count": 55
        }
      ]
    },
    {
      "cell_type": "code",
      "source": [
        "def f1_(y_true, model, X_test):\n",
        "  y_pred = model.predict(X_test)\n",
        "  P = 0.2\n",
        "  y_pred = np.where(y_pred > P, 1, 0)\n",
        "  return f1_score(y_test, y_pred)"
      ],
      "metadata": {
        "id": "PERYJYoZ2vqd"
      },
      "execution_count": 73,
      "outputs": []
    },
    {
      "cell_type": "code",
      "source": [
        "f1_(y_test, model, X_test)"
      ],
      "metadata": {
        "colab": {
          "base_uri": "https://localhost:8080/"
        },
        "id": "VRm4clb429ek",
        "outputId": "4d519c27-0cc6-4213-83bf-6efe49b0c961"
      },
      "execution_count": 74,
      "outputs": [
        {
          "output_type": "stream",
          "name": "stdout",
          "text": [
            "\u001b[1m42/42\u001b[0m \u001b[32m━━━━━━━━━━━━━━━━━━━━\u001b[0m\u001b[37m\u001b[0m \u001b[1m3s\u001b[0m 80ms/step\n"
          ]
        },
        {
          "output_type": "execute_result",
          "data": {
            "text/plain": [
              "0.9333333333333333"
            ]
          },
          "metadata": {},
          "execution_count": 74
        }
      ]
    },
    {
      "cell_type": "code",
      "source": [
        "model.save(\"/content/drive/MyDrive/Hahaton/resnet50_binary_model4epoch.h5\")"
      ],
      "metadata": {
        "colab": {
          "base_uri": "https://localhost:8080/"
        },
        "id": "hTOTDwFA3LZ5",
        "outputId": "9e195bd3-d17e-45b5-df01-585f2dd88a47"
      },
      "execution_count": 75,
      "outputs": [
        {
          "output_type": "stream",
          "name": "stderr",
          "text": [
            "WARNING:absl:You are saving your model as an HDF5 file via `model.save()` or `keras.saving.save_model(model)`. This file format is considered legacy. We recommend using instead the native Keras format, e.g. `model.save('my_model.keras')` or `keras.saving.save_model(model, 'my_model.keras')`. \n"
          ]
        }
      ]
    }
  ]
}