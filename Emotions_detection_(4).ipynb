{
  "cells": [
    {
      "cell_type": "markdown",
      "metadata": {
        "id": "view-in-github",
        "colab_type": "text"
      },
      "source": [
        "<a href=\"https://colab.research.google.com/github/F1owly/EmotionDetector/blob/main/Emotions_detection_(4).ipynb\" target=\"_parent\"><img src=\"https://colab.research.google.com/assets/colab-badge.svg\" alt=\"Open In Colab\"/></a>"
      ]
    },
    {
      "cell_type": "code",
      "execution_count": null,
      "metadata": {
        "id": "dwjoAeSurb_B"
      },
      "outputs": [],
      "source": [
        "from google.colab import files #Для загрузки своей картинки\n",
        "import numpy as np #Библиотека работы с массивами\n",
        "import pandas as pd\n",
        "from PIL import Image\n",
        "from matplotlib import image\n",
        "from matplotlib import pyplot as plt\n",
        "import random #Для генерации случайных чисел\n",
        "import math # Для округления\n",
        "import os #Для работы с файлами\n",
        "\n",
        "from tensorflow.keras.models import Sequential, load_model #Сеть прямого распространения\n",
        "from tensorflow.keras.layers import Dense, Conv2D, MaxPooling2D, Flatten, Dropout, BatchNormalization #свертки и пр.\n",
        "from tensorflow.keras.optimizers import Adam, Adadelta # оптимизаторы\n",
        "\n",
        "%matplotlib inline"
      ]
    },
    {
      "cell_type": "code",
      "execution_count": null,
      "metadata": {
        "colab": {
          "base_uri": "https://localhost:8080/"
        },
        "id": "SuIBtelcsz1D",
        "outputId": "8704e67a-93ab-4a1d-d725-4410a52e9ac0"
      },
      "outputs": [
        {
          "name": "stdout",
          "output_type": "stream",
          "text": [
            "Mounted at /content/drive\n"
          ]
        }
      ],
      "source": [
        "from google.colab import drive\n",
        "drive.mount('/content/drive')"
      ]
    },
    {
      "cell_type": "code",
      "execution_count": null,
      "metadata": {
        "id": "i_6Pqgu8kl7S"
      },
      "outputs": [],
      "source": []
    },
    {
      "cell_type": "markdown",
      "metadata": {
        "id": "_9prfacQTXh2"
      },
      "source": [
        "#Загрузка данных"
      ]
    },
    {
      "cell_type": "code",
      "execution_count": null,
      "metadata": {
        "id": "CDxgM6AM_mxF"
      },
      "outputs": [],
      "source": [
        "our_size = (244, 244)"
      ]
    },
    {
      "cell_type": "code",
      "execution_count": null,
      "metadata": {
        "colab": {
          "background_save": true
        },
        "id": "-XnMsa4Qs0Wl"
      },
      "outputs": [],
      "source": [
        "path = '/content/drive/MyDrive/data/Angry'\n",
        "X_angry = []\n",
        "for dirs,folder,files in os.walk(path):\n",
        "  for f in files:\n",
        "    img = Image.open(path + '/' + f).resize(our_size).convert('RGB')\n",
        "    #img.show()\n",
        "    for i in range(0, 360, 10):\n",
        "      X_angry.append(np.asarray(img.rotate(i)))"
      ]
    },
    {
      "cell_type": "code",
      "execution_count": null,
      "metadata": {
        "colab": {
          "background_save": true
        },
        "id": "-nrhsFzws0a9"
      },
      "outputs": [],
      "source": [
        "path = '/content/drive/MyDrive/data/Happy'\n",
        "X_happy = []\n",
        "for dirs,folder,files in os.walk(path):\n",
        "  for f in files:\n",
        "    img = Image.open(path + '/' + f).resize(our_size).convert('RGB')\n",
        "    for i in range(0, 360, 10):\n",
        "      X_happy.append(np.asarray(img.rotate(i)))"
      ]
    },
    {
      "cell_type": "code",
      "execution_count": null,
      "metadata": {
        "colab": {
          "background_save": true
        },
        "id": "qJ2ZooWn24tc"
      },
      "outputs": [],
      "source": [
        "path = '/content/drive/MyDrive/data/Sad'\n",
        "X_sad = []\n",
        "for dirs,folder,files in os.walk(path):\n",
        "  for f in files:\n",
        "    img = Image.open(path + '/' + f).resize(our_size).convert('RGB')\n",
        "    for i in range(0, 360, 10):\n",
        "      X_sad.append(np.asarray(img.rotate(i)))"
      ]
    },
    {
      "cell_type": "code",
      "execution_count": null,
      "metadata": {
        "colab": {
          "background_save": true
        },
        "id": "HE6U_zQs3f_8",
        "outputId": "47fae823-7f4a-44ec-a944-3cf5e3b7c2ab"
      },
      "outputs": [
        {
          "data": {
            "text/plain": [
              "(3096, 3600, 2844)"
            ]
          },
          "execution_count": 7,
          "metadata": {},
          "output_type": "execute_result"
        }
      ],
      "source": [
        "len(X_angry), len(X_happy), len(X_sad)"
      ]
    },
    {
      "cell_type": "code",
      "execution_count": null,
      "metadata": {
        "colab": {
          "background_save": true
        },
        "id": "KqjBgByv_QWX"
      },
      "outputs": [],
      "source": [
        "X_angry = np.array(X_angry)\n",
        "X_happy = np.array(X_happy)\n",
        "X_sad = np.array(X_sad)"
      ]
    },
    {
      "cell_type": "code",
      "execution_count": null,
      "metadata": {
        "colab": {
          "background_save": true
        },
        "id": "LyxU5ChUldu4",
        "outputId": "5d0b23eb-844c-4e5b-cfb8-cb9f4501b352"
      },
      "outputs": [
        {
          "data": {
            "text/plain": [
              "3096"
            ]
          },
          "execution_count": 9,
          "metadata": {},
          "output_type": "execute_result"
        }
      ],
      "source": [
        "len(X_angry)"
      ]
    },
    {
      "cell_type": "markdown",
      "metadata": {
        "id": "JSTxtyJvkUNv"
      },
      "source": [
        "#Подготовка данных для обучения"
      ]
    },
    {
      "cell_type": "code",
      "execution_count": null,
      "metadata": {
        "colab": {
          "background_save": true
        },
        "id": "aG7gaNGXL3E3"
      },
      "outputs": [],
      "source": [
        "y_angry = X_angry.shape[0] * [[1, 0, 0]]\n",
        "y_happy = X_happy.shape[0] * [[0, 1, 0]]\n",
        "y_sad = X_sad.shape[0] * [[0, 0, 1]]"
      ]
    },
    {
      "cell_type": "code",
      "execution_count": null,
      "metadata": {
        "colab": {
          "background_save": true
        },
        "id": "rkZpVeP4qM69",
        "outputId": "47e68d3b-09b6-48ab-eec3-3b6b18f57588"
      },
      "outputs": [
        {
          "data": {
            "text/plain": [
              "[1, 0, 0]"
            ]
          },
          "execution_count": 11,
          "metadata": {},
          "output_type": "execute_result"
        }
      ],
      "source": [
        "y_angry[0]"
      ]
    },
    {
      "cell_type": "code",
      "execution_count": null,
      "metadata": {
        "colab": {
          "background_save": true
        },
        "id": "aTnCO3WiulOn",
        "outputId": "aa1214ab-e093-4bba-a65c-7a673cbd9d84"
      },
      "outputs": [
        {
          "data": {
            "text/plain": [
              "((6676, 244, 244, 3),\n",
              " (6676, 3),\n",
              " (1909, 244, 244, 3),\n",
              " (1909, 3),\n",
              " (955, 244, 244, 3),\n",
              " (955, 3))"
            ]
          },
          "execution_count": 12,
          "metadata": {},
          "output_type": "execute_result"
        }
      ],
      "source": [
        "from sklearn.model_selection import train_test_split\n",
        "\n",
        "def train_test_val_split(X,\n",
        "                         y,\n",
        "                         test_size = 0.2,\n",
        "                         val_size = 0.1,\n",
        "                         shuffle=True,\n",
        "                         random_state=42):\n",
        "  X_train, X_test, y_train, y_test = train_test_split(X,\n",
        "                                                    y,\n",
        "                                                    test_size=test_size,\n",
        "                                                    shuffle=shuffle,\n",
        "                                                    random_state=random_state)\n",
        "\n",
        "  X_train, X_val, y_train, y_val = train_test_split(X_train,\n",
        "                                                    y_train,\n",
        "                                                    test_size=val_size/(1-test_size),\n",
        "                                                    shuffle=shuffle,\n",
        "                                                    random_state=random_state)\n",
        "  return X_train, X_test, X_val, y_train, y_test, y_val\n",
        "\n",
        "\n",
        "X_angry_train, X_angry_test, X_angry_val, y_angry_train, y_angry_test, y_angry_val = train_test_val_split(X_angry,\n",
        "                                                                                                          y_angry,\n",
        "                                                                                                          test_size = 0.2,\n",
        "                                                                                                          val_size = 0.1,\n",
        "                                                                                                          shuffle=True,\n",
        "                                                                                                          random_state=42)\n",
        "\n",
        "X_sad_train, X_sad_test, X_sad_val, y_sad_train, y_sad_test, y_sad_val = train_test_val_split(            X_sad,\n",
        "                                                                                                          y_sad,\n",
        "                                                                                                          test_size = 0.2,\n",
        "                                                                                                          val_size = 0.1,\n",
        "                                                                                                          shuffle=True,\n",
        "                                                                                                          random_state=42)\n",
        "\n",
        "X_happy_train, X_happy_test, X_happy_val, y_happy_train, y_happy_test, y_happy_val = train_test_val_split(X_happy,\n",
        "                                                                                                          y_happy,\n",
        "                                                                                                          test_size = 0.2,\n",
        "                                                                                                          val_size = 0.1,\n",
        "                                                                                                          shuffle=True,\n",
        "                                                                                                          random_state=42)\n",
        "\n",
        "\n",
        "\n",
        "X_train = np.concatenate([X_angry_train, X_sad_train, X_happy_train])\n",
        "X_test = np.concatenate([X_angry_test, X_sad_test, X_happy_test])\n",
        "X_val = np.concatenate([X_angry_val, X_sad_val, X_happy_val])\n",
        "y_train = np.concatenate([y_angry_train, y_sad_train, y_happy_train])\n",
        "y_test = np.concatenate([y_angry_test, y_sad_test, y_happy_test])\n",
        "y_val = np.concatenate([y_angry_val, y_sad_val, y_happy_val])\n",
        "\n",
        "X_train.shape, y_train.shape, X_test.shape, y_test.shape, X_val.shape, y_val.shape"
      ]
    },
    {
      "cell_type": "code",
      "execution_count": null,
      "metadata": {
        "colab": {
          "background_save": true
        },
        "id": "2Mso3WkFpWzy"
      },
      "outputs": [],
      "source": [
        "batch_size = 128\n",
        "input_shape = (our_size[0], our_size[1], 3)"
      ]
    },
    {
      "cell_type": "markdown",
      "metadata": {
        "id": "i3HkSARl8hzd"
      },
      "source": [
        "#Обучение нейросети"
      ]
    },
    {
      "cell_type": "code",
      "execution_count": null,
      "metadata": {
        "colab": {
          "background_save": true
        },
        "id": "rpAdrpRlx8Fv"
      },
      "outputs": [],
      "source": [
        "#Создаем последовательную модель\n",
        "model = Sequential()\n",
        "\n",
        "# 32 Conv 3 + 32 Conv3 + MaxPool2\n",
        "model.add(Conv2D(32, (3, 3), padding='same', activation='relu'))\n",
        "\n",
        "model.add(Conv2D(32, (3, 3), padding='same', activation='relu'))\n",
        "\n",
        "model.add(MaxPooling2D(pool_size=(2, 2)))\n",
        "\n",
        "\n",
        "# 64 Conv 3 + 64 Conv3 + MaxPool2\n",
        "model.add(Conv2D(64, (3, 3), padding='same', activation='relu'))\n",
        "\n",
        "model.add(Conv2D(64, (3, 3), padding='same', activation='relu'))\n",
        "\n",
        "model.add(MaxPooling2D(pool_size=(2, 2)))\n",
        "\n",
        "\n",
        "# 128 Conv 3 + 128 Conv3 + 128 Conv3 + MaxPool2\n",
        "model.add(Conv2D(128, (3, 3), padding='same', activation='relu'))\n",
        "\n",
        "model.add(Conv2D(128, (3, 3), padding='same', activation='relu'))\n",
        "\n",
        "model.add(Conv2D(128, (3, 3), padding='same', activation='relu'))\n",
        "\n",
        "model.add(MaxPooling2D(pool_size=(2, 2)))\n",
        "\n",
        "\n",
        "# 128 Conv 3 + 128 Conv3 + 128 Conv3 + MaxPool2\n",
        "model.add(Conv2D(128, (3, 3), padding='same', activation='relu'))\n",
        "\n",
        "model.add(Conv2D(128, (3, 3), padding='same', activation='relu'))\n",
        "\n",
        "model.add(Conv2D(128, (3, 3), padding='same', activation='relu'))\n",
        "\n",
        "model.add(MaxPooling2D(pool_size=(2, 2)))\n",
        "\n",
        "\n",
        "# 256 Conv 3 + 256 Conv3 + 256 Conv3 + MaxPool2\n",
        "model.add(Conv2D(256, (3, 3), padding='same', activation='relu'))\n",
        "\n",
        "model.add(Conv2D(256, (3, 3), padding='same', activation='relu'))\n",
        "\n",
        "model.add(Conv2D(256, (3, 3), padding='same', activation='relu'))\n",
        "\n",
        "model.add(MaxPooling2D(pool_size=(2, 2)))\n",
        "\n",
        "\n",
        "model.add(Flatten())\n",
        "\n",
        "model.add(Dense(1024, activation='relu'))\n",
        "\n",
        "model.add(Dense(1024, activation='relu'))\n",
        "\n",
        "model.add(Dense(256, activation='relu'))\n",
        "\n",
        "model.add(Dense(3, activation='softmax'))\n",
        "\n",
        "\n",
        "model.compile(loss=\"categorical_crossentropy\", optimizer=\"adam\", metrics=[\"f1_score\"])"
      ]
    },
    {
      "cell_type": "code",
      "execution_count": null,
      "metadata": {
        "id": "W6Z113wp7YmD"
      },
      "outputs": [],
      "source": [
        "history = model.fit(X_train,\n",
        "                    y_train,\n",
        "                    batch_size=batch_size,\n",
        "                    epochs=16,\n",
        "                    validation_data=(X_val, y_val),\n",
        "                    verbose=1)\n",
        "\n",
        "#Отображаем график точности обучения\n",
        "plt.plot(history.history['f1_score'],\n",
        "         label='F1-score на обучающем наборе')\n",
        "plt.plot(history.history['val_f1_score'],\n",
        "         label='F1-score на проверочном наборе')\n",
        "plt.xlabel('Эпоха обучения')\n",
        "plt.ylabel('Доля верных ответов')\n",
        "plt.legend()\n",
        "plt.show()"
      ]
    },
    {
      "cell_type": "code",
      "execution_count": null,
      "metadata": {
        "id": "suSCTYn8njKV"
      },
      "outputs": [],
      "source": [
        "model.summary()"
      ]
    },
    {
      "cell_type": "code",
      "execution_count": null,
      "metadata": {
        "id": "CD81tE6AZGjf"
      },
      "outputs": [],
      "source": [
        "model.save(\"/content/drive/MyDrive/Emotion_detector/my_model2.h5\")"
      ]
    },
    {
      "cell_type": "markdown",
      "metadata": {
        "id": "Xb_YK0lRYtpl"
      },
      "source": [
        "#Тестировка"
      ]
    },
    {
      "cell_type": "code",
      "execution_count": null,
      "metadata": {
        "id": "gEqav91hhP5z"
      },
      "outputs": [],
      "source": [
        "model = load_model(\"/content/drive/MyDrive/Emotion_detector/my_model2.h5\")"
      ]
    },
    {
      "cell_type": "code",
      "execution_count": null,
      "metadata": {
        "id": "TK7jSquXiAzX"
      },
      "outputs": [],
      "source": [
        "model.summary()"
      ]
    },
    {
      "cell_type": "code",
      "execution_count": null,
      "metadata": {
        "id": "r8VEhfWUZ5pd"
      },
      "outputs": [],
      "source": [
        "scores = model.evaluate(X_test, y_test)\n",
        "scores"
      ]
    },
    {
      "cell_type": "markdown",
      "metadata": {
        "id": "xIRWEwNHN1-Z"
      },
      "source": [
        "#Демонстрация работы"
      ]
    }
  ],
  "metadata": {
    "accelerator": "GPU",
    "colab": {
      "gpuType": "T4",
      "provenance": [],
      "authorship_tag": "ABX9TyM7s5W4Ik/qnaNnNr8y8Hl7",
      "include_colab_link": true
    },
    "kernelspec": {
      "display_name": "Python 3",
      "name": "python3"
    },
    "language_info": {
      "name": "python"
    }
  },
  "nbformat": 4,
  "nbformat_minor": 0
}